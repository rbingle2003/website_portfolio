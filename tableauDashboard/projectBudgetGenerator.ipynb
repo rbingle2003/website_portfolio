{
 "cells": [
  {
   "cell_type": "markdown",
   "id": "baa6671b-ae37-4798-bac6-212b060c0d7d",
   "metadata": {},
   "source": [
    "# Project Budget Mock Data Generator"
   ]
  },
  {
   "cell_type": "markdown",
   "id": "183d0f43-a827-430f-b43f-8509c964ece7",
   "metadata": {},
   "source": [
    "##### This script will generate mock budget data for 40 projects from 2018 to 2022."
   ]
  },
  {
   "cell_type": "markdown",
   "id": "f7fa0449-f438-4caa-bcc4-80fe399cffca",
   "metadata": {},
   "source": [
    "#### Install Pandas"
   ]
  },
  {
   "cell_type": "code",
   "execution_count": 1,
   "id": "3ac9d389-4e90-4b2d-9562-f4aa1dfb13b8",
   "metadata": {
    "tags": []
   },
   "outputs": [
    {
     "name": "stdout",
     "output_type": "stream",
     "text": [
      "Requirement already satisfied: pandas in c:\\users\\rbing\\anaconda3\\lib\\site-packages (2.0.3)\n",
      "Requirement already satisfied: python-dateutil>=2.8.2 in c:\\users\\rbing\\anaconda3\\lib\\site-packages (from pandas) (2.8.2)\n",
      "Requirement already satisfied: pytz>=2020.1 in c:\\users\\rbing\\anaconda3\\lib\\site-packages (from pandas) (2023.3.post1)\n",
      "Requirement already satisfied: tzdata>=2022.1 in c:\\users\\rbing\\anaconda3\\lib\\site-packages (from pandas) (2023.3)\n",
      "Requirement already satisfied: numpy>=1.21.0 in c:\\users\\rbing\\anaconda3\\lib\\site-packages (from pandas) (1.24.3)\n",
      "Requirement already satisfied: six>=1.5 in c:\\users\\rbing\\anaconda3\\lib\\site-packages (from python-dateutil>=2.8.2->pandas) (1.16.0)\n"
     ]
    }
   ],
   "source": [
    "!pip install pandas"
   ]
  },
  {
   "cell_type": "markdown",
   "id": "b29647f6-a91f-4e4a-9df6-8bbc80bffbdb",
   "metadata": {
    "tags": []
   },
   "source": [
    "### Import Pandas and Random"
   ]
  },
  {
   "cell_type": "code",
   "execution_count": 7,
   "id": "03ae1ed9-b56d-4827-a220-bef3005d8b85",
   "metadata": {
    "tags": []
   },
   "outputs": [],
   "source": [
    "import pandas as pd\n",
    "import random"
   ]
  },
  {
   "cell_type": "markdown",
   "id": "2faeb476-0c1a-45cd-ab80-a0443a8f69fa",
   "metadata": {},
   "source": [
    "### Create the monthly status generator"
   ]
  },
  {
   "cell_type": "code",
   "execution_count": 28,
   "id": "50fd3a24-664f-41b9-8b78-135eb7dd8efc",
   "metadata": {
    "tags": []
   },
   "outputs": [],
   "source": [
    "class MonthlyProjectStatusGenerator:\n",
    "    def __init__(self, project_name, pm_names, project_categories, project_priorities):\n",
    "        self.project_name = project_name\n",
    "        self.total_budget = random.uniform(50000, 150000)  # Fixed total budget\n",
    "        self.category = random.choice(project_categories)\n",
    "        self.priority = random.choice(project_priorities)\n",
    "        self.start_year = random.randint(2018, 2022)\n",
    "        self.project_manager = random.choice(pm_names)\n",
    "        self.months = [\"January\", \"February\", \"March\", \"April\", \"May\", \"June\", \"July\", \"August\", \"September\", \"October\", \"November\", \"December\"]\n",
    "        self.project_duration = random.randint(6, 12)\n",
    "\n",
    "    def generate_monthly_status(self):\n",
    "        monthly_updates = []\n",
    "        accumulated_progress = 0\n",
    "        progress_increment = 100 / self.project_duration\n",
    "        accumulated_risk = random.uniform(0, 100)\n",
    "        cumulative_amount_consumed = 0\n",
    "\n",
    "        start_month_index = random.randint(0, 11)\n",
    "        current_year = self.start_year\n",
    "\n",
    "        for i in range(self.project_duration):\n",
    "            month_index = (start_month_index + i) % 12\n",
    "            if month_index == 0 and i != 0:\n",
    "                current_year += 1\n",
    "            \n",
    "            # Calculate project progress\n",
    "            month = self.months[month_index]\n",
    "            accumulated_progress += progress_increment\n",
    "            accumulated_risk += random.uniform(-5, 5)\n",
    "            accumulated_risk = min(max(accumulated_risk, 0), 100)\n",
    "\n",
    "            # Calculate variable monthly consumption\n",
    "            monthly_budget_consumed = (self.total_budget / self.project_duration) * random.uniform(0.95, 1.05)\n",
    "            cumulative_amount_consumed += monthly_budget_consumed\n",
    "\n",
    "            # Update the last month's consumption to stay between +/- budget\n",
    "            if i == self.project_duration - 1:  # Last iteration\n",
    "                if cumulative_amount_consumed > self.total_budget * 1.05:\n",
    "                    cumulative_amount_consumed = self.total_budget * 1.05\n",
    "                elif cumulative_amount_consumed < self.total_budget * 0.95:\n",
    "                    cumulative_amount_consumed = self.total_budget * 0.95\n",
    "\n",
    "            monthly_update = [self.project_name, cumulative_amount_consumed, self.total_budget, accumulated_progress, accumulated_risk, self.priority, current_year, month, self.category, self.project_manager]\n",
    "            monthly_updates.append(monthly_update)\n",
    "\n",
    "        return pd.DataFrame(monthly_updates, columns=[\"Project Name\", \"Cumulative Amount Consumed\", \"Total Budget\", \"Progress (%)\", \"Risk (%)\", \"Priority\", \"Year\", \"Month\", \"Category\", \"Project Manager\"])"
   ]
  },
  {
   "cell_type": "markdown",
   "id": "810b37fe-1ed0-436e-ae55-da1cf0343b00",
   "metadata": {},
   "source": [
    "### Create the function to generate 40 projects and export them to CSV"
   ]
  },
  {
   "cell_type": "code",
   "execution_count": 29,
   "id": "88539f78-92a0-40fd-8158-aa05b0bcaa1e",
   "metadata": {
    "tags": []
   },
   "outputs": [],
   "source": [
    "def generate_and_export_projects(num_projects, project_names, pm_names, project_categories, project_priorities, filename):\n",
    "    all_projects_df = pd.DataFrame()\n",
    "    \n",
    "    for _ in range(num_projects):\n",
    "        # Check if there are project names left\n",
    "        if not project_names:\n",
    "            break\n",
    "\n",
    "        # Choose and remove a project name from the list\n",
    "        chosen_project_name = random.choice(project_names)\n",
    "        project_names.remove(chosen_project_name)\n",
    "\n",
    "        # Generate project status\n",
    "        generator = MonthlyProjectStatusGenerator(chosen_project_name, pm_names, project_categories, project_priorities)\n",
    "        project_status = generator.generate_monthly_status()\n",
    "\n",
    "        # Append this project's data to the overall DataFrame\n",
    "        all_projects_df = pd.concat([all_projects_df, project_status])\n",
    "\n",
    "    # Export the combined DataFrame to a CSV file\n",
    "    all_projects_df.to_csv(filename, index=False)"
   ]
  },
  {
   "cell_type": "markdown",
   "id": "9ea6ec0e-d707-453f-9109-661a0630706b",
   "metadata": {},
   "source": [
    "### Define the lists for project names, managers, categories, and priority"
   ]
  },
  {
   "cell_type": "code",
   "execution_count": 30,
   "id": "28e7e314-2c8d-466a-9845-a0e76f28ffe3",
   "metadata": {
    "tags": []
   },
   "outputs": [],
   "source": [
    "project_names = [\n",
    "    \"Global Expansion Initiative\", \"NextGen Tech Upgrade\", \"Market Analysis Endeavor\",\n",
    "    \"Customer Insight Platform\", \"Operational Efficiency Boost\", \"Digital Transformation\",\n",
    "    \"Brand Revitalization Campaign\", \"Sustainable Energy Solution\", \"AI Integration Project\",\n",
    "    \"Cybersecurity Enhancement\", \"Cloud Migration Strategy\", \"Data Analytics Implementation\",\n",
    "    \"E-commerce Platform Overhaul\", \"Mobile App Development\", \"Customer Relationship Improvement\",\n",
    "    \"Employee Training System\", \"Automated Reporting Tool\", \"Website Redesign Plan\",\n",
    "    \"Supply Chain Optimization\", \"Product Line Extension\", \"Health and Safety Program\",\n",
    "    \"Quality Assurance Process\", \"Regulatory Compliance Project\", \"New Office Launch\",\n",
    "    \"Corporate Culture Revamp\", \"Internal Communication System\", \"Client Onboarding Process\",\n",
    "    \"Social Media Marketing Campaign\", \"Financial System Upgrade\", \"HR Management Software\",\n",
    "    \"Customer Service Improvement\", \"Inventory Management System\", \"New Product Research\",\n",
    "    \"Competitor Analysis Study\", \"Market Entry Strategy\", \"User Experience Enhancement\",\n",
    "    \"Corporate Social Responsibility\", \"Risk Management Framework\", \"Cost Reduction Plan\",\n",
    "    \"Strategic Partnership Development\"\n",
    "]\n",
    "pm_names = [\"Alice Johnson\", \"Bob Smith\", \"Charlie Brown\", \"Diana Prince\", \"Ethan Hunt\", \"Grace Lee\"]\n",
    "project_categories = [\"IT\", \"Marketing\", \"Finance\", \"HR\", \"R&D\", \"Operations\", \"Sales\"]\n",
    "project_priorities = [\"High\", \"Medium\", \"Low\"]"
   ]
  },
  {
   "cell_type": "markdown",
   "id": "21e230ab-2f9d-4042-b9e0-6bbb514ef174",
   "metadata": {},
   "source": [
    "### Generate the project statuses and export to CSV"
   ]
  },
  {
   "cell_type": "code",
   "execution_count": 31,
   "id": "c701924a-976d-490c-a30d-722851159d0f",
   "metadata": {
    "tags": []
   },
   "outputs": [
    {
     "name": "stdout",
     "output_type": "stream",
     "text": [
      "All project status data exported to 'all_projects_status.csv'\n"
     ]
    }
   ],
   "source": [
    "# Generating a project for a specific year\n",
    "generator = MonthlyProjectStatusGenerator(project_names, pm_names, project_categories, project_priorities)\n",
    "monthly_status = generator.generate_monthly_status()\n",
    "\n",
    "csv_filename = \"all_projects_status.csv\"\n",
    "generate_and_export_projects(40, project_names, pm_names, project_categories, project_priorities, csv_filename)\n",
    "\n",
    "print(f\"All project status data exported to '{csv_filename}'\") # Print confirmation message"
   ]
  }
 ],
 "metadata": {
  "kernelspec": {
   "display_name": "Python 3 (ipykernel)",
   "language": "python",
   "name": "python3"
  },
  "language_info": {
   "codemirror_mode": {
    "name": "ipython",
    "version": 3
   },
   "file_extension": ".py",
   "mimetype": "text/x-python",
   "name": "python",
   "nbconvert_exporter": "python",
   "pygments_lexer": "ipython3",
   "version": "3.11.5"
  }
 },
 "nbformat": 4,
 "nbformat_minor": 5
}
