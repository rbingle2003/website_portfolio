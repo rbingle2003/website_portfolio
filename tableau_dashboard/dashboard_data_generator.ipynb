{
 "cells": [
  {
   "cell_type": "markdown",
   "id": "73844f34-5e59-44a8-9183-eb3ea3a3bb68",
   "metadata": {},
   "source": [
    "## Project Management Dashboard Data Generator\n",
    "\n",
    "This script was intended to generate random data for my Project Management Overview Dashboard.\n",
    "\n",
    "It creates a simulated dataset of employee work data for a given date range. \n",
    "\n",
    "#### Key features include:\n",
    " + Date Range: Business days between January 1, 2023, and August 1, 2023.\n",
    " + Employees and Projects: Selects from predefined lists with weighted probabilities.\n",
    " + Work Details:\n",
    "     + Assignments: 1 or 2 projects per employee per day.\n",
    "     + Hours Worked: Calculated within ±15% of the budgeted hours per project.\n",
    " + Revenue: Estimated based on hours worked.\n",
    " + Category: Randomly assigned as \"Consulting\", \"Developing\", or \"Planning\" with specific probabilities.\n",
    " + Output: Data saved as a CSV file, including columns for date, employee name, project details, hours worked, revenue, and category."
   ]
  },
  {
   "cell_type": "markdown",
   "id": "d6a51023-b4a2-43ec-89d2-c71b0e5ba179",
   "metadata": {},
   "source": [
    "### Install Pandas"
   ]
  },
  {
   "cell_type": "code",
   "execution_count": 1,
   "id": "1ca73a14-a410-48b9-b43d-232705fa97f8",
   "metadata": {
    "tags": []
   },
   "outputs": [
    {
     "name": "stdout",
     "output_type": "stream",
     "text": [
      "Requirement already satisfied: pandas in c:\\users\\bobby\\anaconda3\\lib\\site-packages (2.0.3)\n",
      "Requirement already satisfied: python-dateutil>=2.8.2 in c:\\users\\bobby\\anaconda3\\lib\\site-packages (from pandas) (2.8.2)\n",
      "Requirement already satisfied: pytz>=2020.1 in c:\\users\\bobby\\anaconda3\\lib\\site-packages (from pandas) (2023.3.post1)\n",
      "Requirement already satisfied: tzdata>=2022.1 in c:\\users\\bobby\\anaconda3\\lib\\site-packages (from pandas) (2023.3)\n",
      "Requirement already satisfied: numpy>=1.21.0 in c:\\users\\bobby\\anaconda3\\lib\\site-packages (from pandas) (1.26.2)\n",
      "Requirement already satisfied: six>=1.5 in c:\\users\\bobby\\anaconda3\\lib\\site-packages (from python-dateutil>=2.8.2->pandas) (1.16.0)\n"
     ]
    }
   ],
   "source": [
    "!pip install pandas"
   ]
  },
  {
   "cell_type": "markdown",
   "id": "e1fbf230-f9ca-4175-bf25-565919a5be6f",
   "metadata": {
    "tags": []
   },
   "source": [
    "### Import Libraries"
   ]
  },
  {
   "cell_type": "code",
   "execution_count": 3,
   "id": "d675e875-6c02-48cb-8817-8c7c2f38228e",
   "metadata": {
    "tags": []
   },
   "outputs": [],
   "source": [
    "import pandas as pd\n",
    "import random\n",
    "import datetime"
   ]
  },
  {
   "cell_type": "markdown",
   "id": "12e324e6-6b1b-4fcb-84d0-45d5c58ea080",
   "metadata": {},
   "source": [
    "### Define Variables and Ranges"
   ]
  },
  {
   "cell_type": "code",
   "execution_count": 4,
   "id": "50c94ea6-1512-47d5-81f1-6189bbed853e",
   "metadata": {
    "tags": []
   },
   "outputs": [],
   "source": [
    "# Define the list of employees with weights\n",
    "employees_with_weights = [\n",
    "    (\"Alex Johnson\", 5),\n",
    "    (\"Emma Turner\", 3),\n",
    "    (\"Michael Smith\", 4),\n",
    "    (\"Sophia Brown\", 2),\n",
    "    (\"James Wilson\", 6),\n",
    "    (\"Olivia Garcia\", 3),\n",
    "    (\"William Davis\", 4),\n",
    "    (\"Isabella Martinez\", 2)\n",
    "]\n",
    "\n",
    "# Define the projects with weights and run dates\n",
    "projects_with_weights = [\n",
    "    (\"Tech Solutions Development\", \"Sarah Collins\", 3, datetime.date(2023, 1, 1), datetime.date(2023, 6, 30)),\n",
    "    (\"Global Marketing Campaign\", \"David Kim\", 3, datetime.date(2023, 2, 1), datetime.date(2023, 12, 31)),\n",
    "    (\"Product Innovation Lab\", \"Emily Patel\", 1, datetime.date(2023, 1, 15), datetime.date(2023, 5, 31)),\n",
    "    (\"Enterprise Software Upgrade\", \"John Murphy\", 2, datetime.date(2023, 3, 1), datetime.date(2023, 11, 30)),\n",
    "    (\"Strategic Client Acquisition\", \"Angela Zhao\", 4, datetime.date(2023, 4, 1), datetime.date(2023, 10, 31))\n",
    "]\n",
    "\n",
    "# Define start and end dates for data\n",
    "start_date = datetime.date(2023, 1, 1)\n",
    "end_date = datetime.date(2023, 8, 1)"
   ]
  },
  {
   "cell_type": "markdown",
   "id": "638c0d78-8133-43b4-8bef-adc159f04553",
   "metadata": {
    "tags": []
   },
   "source": [
    "### Create Work Data Generator Function"
   ]
  },
  {
   "cell_type": "code",
   "execution_count": 6,
   "id": "41587878-6d76-4d1d-a3b8-36d9a423d44a",
   "metadata": {
    "tags": []
   },
   "outputs": [],
   "source": [
    "def generate_work_data_for_all(start_date, end_date):\n",
    "    all_days = pd.date_range(start_date, end_date, freq='B').date\n",
    "    work_data = []\n",
    "    \n",
    "    # Choose all days in date range\n",
    "    for day in all_days:\n",
    "        # Randomly choose an employee\n",
    "        employee_info = random.choice(employees_with_weights)\n",
    "        employee_name = employee_info[0]\n",
    "\n",
    "        # Randomly decide if the employee is not scheduled (5% chance)\n",
    "        if random.random() < 0.05:\n",
    "            continue\n",
    "\n",
    "        # Deciding on the number of projects for the day\n",
    "        num_projects = random.randint(1, 2)\n",
    "        total_hours_available = 8\n",
    "\n",
    "        for _ in range(num_projects):\n",
    "            # Filtering valid projects for the day\n",
    "            # A project is considered valid for thr day if that day falls within the project's start and end dates\n",
    "            valid_projects = []\n",
    "            for project in projects_with_weights:\n",
    "                if project[3] <= day <= project[4]:\n",
    "                    valid_projects.append(project)\n",
    "\n",
    "            if not valid_projects:\n",
    "                continue\n",
    "\n",
    "            # Choose a project randomly\n",
    "            project_info = random.choice(valid_projects)\n",
    "            project_name = project_info[0]\n",
    "            project_manager = project_info[1]\n",
    "\n",
    "            # Calculate budgeted hours per project\n",
    "            budgeted_hours_per_project = total_hours_available / num_projects\n",
    "\n",
    "            # Calulcate hours worked with a +/-15% deviation\n",
    "            deviation = budgeted_hours_per_project * 0.15\n",
    "            min_hours = max(0, budgeted_hours_per_project - deviation)\n",
    "            max_hours = min(total_hours_available, budgeted_hours_per_project + deviation)\n",
    "            hours_worked = round(random.uniform(min_hours, max_hours), 1)\n",
    "\n",
    "            # Use above to reduce total hours available for next project\n",
    "            total_hours_available -= hours_worked\n",
    "\n",
    "            # Calulcate revenue\n",
    "            revenue = round(hours_worked * random.uniform(100, 500), 2)\n",
    "\n",
    "            # Choose a category for the work\n",
    "            categories = [\"Consulting\", \"Developing\", \"Planning\"]\n",
    "            weights = [8, 5, 1]\n",
    "            category = random.choices(categories, weights)[0]\n",
    "\n",
    "            # Appending the work data to the list\n",
    "            work_data.append({\n",
    "                'Date': day,\n",
    "                'Employee Name': employee_name,\n",
    "                'Project': project_name,\n",
    "                'Project Manager': project_manager,\n",
    "                'Hours Worked': hours_worked,\n",
    "                'Budgeted Hours': budgeted_hours_per_project,\n",
    "                'Revenue': revenue,\n",
    "                'Category': category\n",
    "            })\n",
    "\n",
    "    # Convert list to DataFrame\n",
    "    return pd.DataFrame(work_data)"
   ]
  },
  {
   "cell_type": "markdown",
   "id": "9e592cd0-454f-4cdb-9f22-1226c2b19366",
   "metadata": {
    "tags": []
   },
   "source": [
    "### Generate the DataFrame and Save to CSV"
   ]
  },
  {
   "cell_type": "code",
   "execution_count": 13,
   "id": "9b159f93-3057-48a5-b564-34beb9d28eaa",
   "metadata": {
    "tags": []
   },
   "outputs": [
    {
     "name": "stdout",
     "output_type": "stream",
     "text": [
      "Employee work data has been saved to employee_work_data.csv\n"
     ]
    }
   ],
   "source": [
    "df = generate_work_data_for_all(start_date, end_date)\n",
    "\n",
    "file_name = 'employee_work_data.csv'\n",
    "df.to_csv(file_name, index=False)\n",
    "\n",
    "print(f\"Employee work data has been saved to {file_name}\")"
   ]
  }
 ],
 "metadata": {
  "kernelspec": {
   "display_name": "Python 3 (ipykernel)",
   "language": "python",
   "name": "python3"
  },
  "language_info": {
   "codemirror_mode": {
    "name": "ipython",
    "version": 3
   },
   "file_extension": ".py",
   "mimetype": "text/x-python",
   "name": "python",
   "nbconvert_exporter": "python",
   "pygments_lexer": "ipython3",
   "version": "3.11.5"
  }
 },
 "nbformat": 4,
 "nbformat_minor": 5
}
